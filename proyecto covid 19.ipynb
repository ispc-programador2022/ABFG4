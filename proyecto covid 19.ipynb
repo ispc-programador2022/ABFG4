{
 "cells": [
  {
   "cell_type": "code",
   "execution_count": 1,
   "id": "7569ffa0",
   "metadata": {},
   "outputs": [],
   "source": [
    "from urllib.request import urlopen\n",
    "import requests\n",
    "from urllib.request import Request\n",
    "from bs4 import BeautifulSoup\n",
    "import matplotlib.pyplot as plt\n",
    "import mysql.connector"
   ]
  },
  {
   "cell_type": "code",
   "execution_count": 2,
   "id": "e0cd4494",
   "metadata": {},
   "outputs": [],
   "source": [
    "URL = 'https://news.google.com/covid19/map?hl=es-419&gl=AR&ceid=AR%3Aes-419'\n",
    "response = requests.get(URL)\n",
    "soup = BeautifulSoup(response.content, 'html.parser')"
   ]
  },
  {
   "cell_type": "code",
   "execution_count": 3,
   "id": "129543c1",
   "metadata": {},
   "outputs": [],
   "source": [
    "paises = []\n",
    "pais = soup.find_all('div', attrs={'class','pcAJd'})\n",
    "for p in pais:\n",
    "    pa = p.text\n",
    "    paises.append(pa)"
   ]
  },
  {
   "cell_type": "code",
   "execution_count": 4,
   "id": "3f36814e",
   "metadata": {},
   "outputs": [
    {
     "data": {
      "text/plain": [
       "41"
      ]
     },
     "execution_count": 4,
     "metadata": {},
     "output_type": "execute_result"
    }
   ],
   "source": [
    "len(paises)"
   ]
  },
  {
   "cell_type": "code",
   "execution_count": 5,
   "id": "67abfdd0",
   "metadata": {},
   "outputs": [],
   "source": [
    "T_casos = []\n",
    "Casos_nuevos = []\n",
    "Casos_x_1millon = []\n",
    "Muertes = []\n",
    "for item in soup.find_all('tr')[1:]:\n",
    "    a = item.find_all('td')\n",
    "    T_casos.append(a[0].text)\n",
    "    Casos_nuevos.append(a[1].text)\n",
    "    Casos_x_1millon.append(a[3].text)\n",
    "    Muertes.append(a[4].text)\n",
    "    #print(a[0].text, a[1].text)"
   ]
  },
  {
   "cell_type": "code",
   "execution_count": 6,
   "id": "70c07561",
   "metadata": {},
   "outputs": [
    {
     "data": {
      "text/plain": [
       "41"
      ]
     },
     "execution_count": 6,
     "metadata": {},
     "output_type": "execute_result"
    }
   ],
   "source": [
    "len(Casos_nuevos)"
   ]
  },
  {
   "cell_type": "code",
   "execution_count": 7,
   "id": "016015ff",
   "metadata": {},
   "outputs": [
    {
     "data": {
      "text/plain": [
       "41"
      ]
     },
     "execution_count": 7,
     "metadata": {},
     "output_type": "execute_result"
    }
   ],
   "source": [
    "len(Casos_x_1millon)"
   ]
  },
  {
   "cell_type": "code",
   "execution_count": 8,
   "id": "cca6f357",
   "metadata": {},
   "outputs": [
    {
     "data": {
      "text/plain": [
       "41"
      ]
     },
     "execution_count": 8,
     "metadata": {},
     "output_type": "execute_result"
    }
   ],
   "source": [
    "len(Muertes)"
   ]
  },
  {
   "cell_type": "code",
   "execution_count": 9,
   "id": "78a760be",
   "metadata": {},
   "outputs": [],
   "source": [
    "combinada = list(zip(paises, T_casos, Casos_nuevos, Casos_x_1millon, Muertes))"
   ]
  },
  {
   "cell_type": "code",
   "execution_count": 10,
   "id": "8c781a8e",
   "metadata": {},
   "outputs": [
    {
     "data": {
      "text/plain": [
       "[('Todos los países', '670,614,966', '210,413', '86,244', '6,832,785'),\n",
       " ('Estados Unidos', '102,070,172', '31,067', '309,720', '1,114,977'),\n",
       " ('India', '44,684,009', '66', '32,843', '530,740'),\n",
       " ('Francia', '38,476,034', '8,215', '573,618', '160,561'),\n",
       " ('Alemania', '37,758,773', '19,301', '454,108', '165,563'),\n",
       " ('Brasil', '36,807,814', '13,553', '174,167', '696,892'),\n",
       " ('Japón', '32,507,929', '21,426', '258,102', '67,853'),\n",
       " ('Corea del Sur', '30,176,646', '19,629', '582,779', '33,444'),\n",
       " ('Italia', '25,453,789', '0', '422,516', '186,833'),\n",
       " ('Reino Unido', '24,274,357', '0', '365,382', '217,262'),\n",
       " ('Rusia', '21,635,211', '5,938', '147,434', '387,069'),\n",
       " ('Turquía', '17,042,722', '0', '204,951', '101,492'),\n",
       " ('España', '13,731,478', '0', '291,536', '118,434'),\n",
       " ('Vietnam', '11,526,461', '53', '119,806', '43,186'),\n",
       " ('Australia', '11,295,446', 'Sin datos', '440,105', '18,615'),\n",
       " ('Argentina', '10,037,135', '4,426', '223,352', '130,421'),\n",
       " ('Taiwán', '9,505,551', '22,284', '402,705', '16,276'),\n",
       " ('Países Bajos', '8,581,282', '0', '491,735', '22,990'),\n",
       " ('Irán', '7,564,252', '106', '90,773', '144,747'),\n",
       " ('México', '7,367,712', '0', '58,207', '332,190'),\n",
       " ('Indonesia', '6,729,756', '183', '25,213', '160,810'),\n",
       " ('Polonia', '6,378,402', '53', '166,195', '118,715'),\n",
       " ('Colombia', '6,352,923', '0', '128,613', '142,186'),\n",
       " ('Austria', '5,776,747', '2,069', '648,883', '21,662'),\n",
       " ('Ucrania', '5,679,320', '41', '135,610', '118,973'),\n",
       " ('Portugal', '5,563,265', '0', '541,352', '26,002'),\n",
       " ('Grecia', '5,548,487', '0', '517,361', '34,779'),\n",
       " ('Chile', '5,117,952', '1,184', '267,854', '63,806'),\n",
       " ('Malasia', '5,036,342', '202', '153,839', '36,942'),\n",
       " ('Israel', '4,785,308', '606', '521,275', '12,177'),\n",
       " ('Tailandia', '4,726,984', '0', '71,095', '33,865'),\n",
       " ('Bélgica', '4,691,499', '0', '407,091', '33,557'),\n",
       " ('Chequia', '4,588,820', '48', '429,105', '42,304'),\n",
       " ('Canadá', '4,564,114', '924', '120,174', '50,561'),\n",
       " ('Perú', '4,481,290', '44', '139,468', '218,863'),\n",
       " ('Suiza', '4,407,050', '807', '513,250', '14,244'),\n",
       " ('Filipinas', '4,073,216', '305', '37,546', '65,775'),\n",
       " ('Sudáfrica', '4,055,720', '304', '69,004', '102,595'),\n",
       " ('Dinamarca', '3,399,576', '384', '583,842', '8,138'),\n",
       " ('Rumanía', '3,325,006', '2,358', '171,347', '67,576'),\n",
       " ('Hong Kong', '2,876,106', '0', '383,445', '13,333')]"
      ]
     },
     "execution_count": 10,
     "metadata": {},
     "output_type": "execute_result"
    }
   ],
   "source": [
    "combinada"
   ]
  },
  {
   "cell_type": "code",
   "execution_count": 11,
   "id": "8305e9ac",
   "metadata": {},
   "outputs": [],
   "source": [
    "combinada_ok = []\n",
    "for tupla in combinada:\n",
    "\n",
    "    valor = []\n",
    "    for idx in range(1, 5):\n",
    "        str_numero = tupla[idx].replace(',', '')\n",
    "        valor.append(int(str_numero) if str_numero.isnumeric() else 0)\n",
    "\n",
    "    tupla_salida = (tupla[0], valor[0], valor[1], valor[2], valor[3])\n",
    "    combinada_ok.append(tupla_salida)"
   ]
  },
  {
   "cell_type": "code",
   "execution_count": 12,
   "id": "7fa6c70a",
   "metadata": {},
   "outputs": [
    {
     "data": {
      "text/plain": [
       "[('Todos los países', 670614966, 210413, 86244, 6832785),\n",
       " ('Estados Unidos', 102070172, 31067, 309720, 1114977),\n",
       " ('India', 44684009, 66, 32843, 530740),\n",
       " ('Francia', 38476034, 8215, 573618, 160561),\n",
       " ('Alemania', 37758773, 19301, 454108, 165563),\n",
       " ('Brasil', 36807814, 13553, 174167, 696892),\n",
       " ('Japón', 32507929, 21426, 258102, 67853),\n",
       " ('Corea del Sur', 30176646, 19629, 582779, 33444),\n",
       " ('Italia', 25453789, 0, 422516, 186833),\n",
       " ('Reino Unido', 24274357, 0, 365382, 217262),\n",
       " ('Rusia', 21635211, 5938, 147434, 387069),\n",
       " ('Turquía', 17042722, 0, 204951, 101492),\n",
       " ('España', 13731478, 0, 291536, 118434),\n",
       " ('Vietnam', 11526461, 53, 119806, 43186),\n",
       " ('Australia', 11295446, 0, 440105, 18615),\n",
       " ('Argentina', 10037135, 4426, 223352, 130421),\n",
       " ('Taiwán', 9505551, 22284, 402705, 16276),\n",
       " ('Países Bajos', 8581282, 0, 491735, 22990),\n",
       " ('Irán', 7564252, 106, 90773, 144747),\n",
       " ('México', 7367712, 0, 58207, 332190),\n",
       " ('Indonesia', 6729756, 183, 25213, 160810),\n",
       " ('Polonia', 6378402, 53, 166195, 118715),\n",
       " ('Colombia', 6352923, 0, 128613, 142186),\n",
       " ('Austria', 5776747, 2069, 648883, 21662),\n",
       " ('Ucrania', 5679320, 41, 135610, 118973),\n",
       " ('Portugal', 5563265, 0, 541352, 26002),\n",
       " ('Grecia', 5548487, 0, 517361, 34779),\n",
       " ('Chile', 5117952, 1184, 267854, 63806),\n",
       " ('Malasia', 5036342, 202, 153839, 36942),\n",
       " ('Israel', 4785308, 606, 521275, 12177),\n",
       " ('Tailandia', 4726984, 0, 71095, 33865),\n",
       " ('Bélgica', 4691499, 0, 407091, 33557),\n",
       " ('Chequia', 4588820, 48, 429105, 42304),\n",
       " ('Canadá', 4564114, 924, 120174, 50561),\n",
       " ('Perú', 4481290, 44, 139468, 218863),\n",
       " ('Suiza', 4407050, 807, 513250, 14244),\n",
       " ('Filipinas', 4073216, 305, 37546, 65775),\n",
       " ('Sudáfrica', 4055720, 304, 69004, 102595),\n",
       " ('Dinamarca', 3399576, 384, 583842, 8138),\n",
       " ('Rumanía', 3325006, 2358, 171347, 67576),\n",
       " ('Hong Kong', 2876106, 0, 383445, 13333)]"
      ]
     },
     "execution_count": 12,
     "metadata": {},
     "output_type": "execute_result"
    }
   ],
   "source": [
    "combinada_ok"
   ]
  },
  {
   "cell_type": "code",
   "execution_count": null,
   "id": "d33a07b2",
   "metadata": {},
   "outputs": [],
   "source": []
  },
  {
   "cell_type": "code",
   "execution_count": 13,
   "id": "4271fbf6",
   "metadata": {},
   "outputs": [
    {
     "name": "stdout",
     "output_type": "stream",
     "text": [
      "41 FILAS INSERTADAS\n"
     ]
    }
   ],
   "source": [
    "mydb = mysql.connector.connect(\n",
    "    host = 'localhost',\n",
    "    user = 'root',\n",
    "    password = '',\n",
    "    database = 'proyecto'\n",
    ")\n",
    "\n",
    "\n",
    "\n",
    "mycursor = mydb.cursor()\n",
    "\n",
    "sql = \"INSERT INTO covid19(paises, T_casos, Casos_nuevos, Casos_x_1millon, Muertes) VALUES (%s, %s, %s, %s, %s)\"\n",
    "\n",
    "mycursor.executemany(sql, combinada_ok)\n",
    "\n",
    "mydb.commit()\n",
    "\n",
    "print(mycursor.rowcount, \"FILAS INSERTADAS\")"
   ]
  },
  {
   "cell_type": "code",
   "execution_count": 16,
   "id": "1466caac",
   "metadata": {},
   "outputs": [],
   "source": [
    "lst_paises = [tupla[0] for tupla in combinada_ok]"
   ]
  },
  {
   "cell_type": "code",
   "execution_count": 17,
   "id": "bf4d1076",
   "metadata": {},
   "outputs": [],
   "source": [
    "lst_columna1 = [tupla[1] for tupla  in combinada_ok]\n",
    "lst_columna2 = [tupla[2] for tupla  in combinada_ok]\n",
    "lst_columna3 = [tupla[3] for tupla  in combinada_ok]"
   ]
  },
  {
   "cell_type": "code",
   "execution_count": 19,
   "id": "7ae97a11",
   "metadata": {},
   "outputs": [
    {
     "data": {
      "image/png": "[encoded data removed]",
      "text/plain": [
       "<Figure size 1400x800 with 1 Axes>"
      ]
     },
     "metadata": {},
     "output_type": "display_data"
    }
   ],
   "source": [
    "plt.figure(figsize=(14,8))\n",
    "plt.bar(lst_paises[:5], lst_columna1[:5])\n",
    "plt.title(\"Total de casos de covid\")\n",
    "plt.xlabel('Paises')\n",
    "plt.ylabel('Cantidad de casos')\n",
    "plt.show()"
   ]
  },
  {
   "cell_type": "code",
   "execution_count": null,
   "id": "52112023",
   "metadata": {},
   "outputs": [],
   "source": []
  }
 ],
 "metadata": {
  "kernelspec": {
   "display_name": "Python 3 (ipykernel)",
   "language": "python",
   "name": "python3"
  },
  "language_info": {
   "codemirror_mode": {
    "name": "ipython",
    "version": 3
   },
   "file_extension": ".py",
   "mimetype": "text/x-python",
   "name": "python",
   "nbconvert_exporter": "python",
   "pygments_lexer": "ipython3",
   "version": "3.9.16"
  }
 },
 "nbformat": 4,
 "nbformat_minor": 5
}
